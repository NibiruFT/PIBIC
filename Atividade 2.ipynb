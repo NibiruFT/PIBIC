{
 "cells": [
  {
   "cell_type": "markdown",
   "id": "9e328a2f",
   "metadata": {},
   "source": [
    "# LFSR da Figura 12.1"
   ]
  },
  {
   "cell_type": "code",
   "execution_count": 141,
   "id": "5de9b2c4",
   "metadata": {},
   "outputs": [
    {
     "name": "stdout",
     "output_type": "stream",
     "text": [
      "count \t state \t\toutbit \t seq\n",
      "--------------------------------------------------\n",
      "0\t[1 1 1 1]\t\t-1\t[-1]\n",
      "1\t[0 1 1 1]\t\t1\t[1]\n",
      "2\t[0 0 1 1]\t\t1\t[1 1]\n",
      "3\t[0 0 0 1]\t\t1\t[1 1 1]\n",
      "4\t[1 0 0 0]\t\t1\t[1 1 1 1]\n",
      "5\t[0 1 0 0]\t\t0\t[1 1 1 1 0]\n",
      "6\t[0 0 1 0]\t\t0\t[1 1 1 1 0 0]\n",
      "7\t[1 0 0 1]\t\t0\t[1 1 1 1 0 0 0]\n",
      "8\t[1 1 0 0]\t\t1\t[1 1 1 1 0 0 0 1]\n",
      "9\t[0 1 1 0]\t\t0\t[1 1 1 1 0 0 0 1 0]\n",
      "10\t[1 0 1 1]\t\t0\t[1 1 1 1 0 0 0 1 0 0]\n",
      "11\t[0 1 0 1]\t\t1\t[1 1 1 1 0 0 0 1 0 0 1]\n",
      "12\t[1 0 1 0]\t\t1\t[1 1 1 1 0 0 0 1 0 0 1 1]\n",
      "13\t[1 1 0 1]\t\t0\t[1 1 1 1 0 0 0 1 0 0 1 1 0]\n",
      "14\t[1 1 1 0]\t\t1\t[1 1 1 1 0 0 0 1 0 0 1 1 0 1]\n",
      "--------------------------------------------------\n",
      "Output:  [1 1 1 1 0 0 0 1 0 0 1 1 0 1 0]\n"
     ]
    }
   ],
   "source": [
    "# import LFSR\n",
    "import numpy as np\n",
    "from pylfsr import LFSR\n",
    "\n",
    "state = [1,1,1,1]\n",
    "fpoly = [4,3]\n",
    "L = LFSR(initstate=state,fpoly=fpoly)\n",
    "print('count \\t state \\t\\toutbit \\t seq')\n",
    "print('-'*50)\n",
    "for _ in range(15):\n",
    "    print(L.count,L.state,'',L.outbit,L.seq,sep='\\t')\n",
    "    L.next()\n",
    "print('-'*50)\n",
    "print('Output: ',L.seq)"
   ]
  },
  {
   "cell_type": "code",
   "execution_count": 99,
   "id": "ad215ccb",
   "metadata": {
    "scrolled": true
   },
   "outputs": [
    {
     "data": {
      "image/png": "[encoded data removed]",
      "text/plain": [
       "<Figure size 648x252 with 1 Axes>"
      ]
     },
     "metadata": {
      "needs_background": "light"
     },
     "output_type": "display_data"
    }
   ],
   "source": [
    "L.Viz(show=False, show_labels=False,title='R1')"
   ]
  },
  {
   "cell_type": "markdown",
   "id": "5220b271",
   "metadata": {},
   "source": [
    "# LFSR de Comprimento 8 "
   ]
  },
  {
   "cell_type": "code",
   "execution_count": 173,
   "id": "40c92fee",
   "metadata": {},
   "outputs": [
    {
     "name": "stdout",
     "output_type": "stream",
     "text": [
      "count \t state \t\toutbit \t seq\n",
      "--------------------------------------------------\n",
      "0\t[1 0 0]\t\t-1\t[-1]\n",
      "1\t[0 1 0]\t\t0\t[0]\n",
      "2\t[1 0 1]\t\t0\t[0 0]\n",
      "3\t[1 1 0]\t\t1\t[0 0 1]\n",
      "4\t[1 1 1]\t\t0\t[0 0 1 0]\n",
      "5\t[0 1 1]\t\t1\t[0 0 1 0 1]\n",
      "6\t[0 0 1]\t\t1\t[0 0 1 0 1 1]\n",
      "7\t[1 0 0]\t\t1\t[0 0 1 0 1 1 1]\n",
      "--------------------------------------------------\n",
      "Output:  [0 0 1 0 1 1 1 0]\n"
     ]
    }
   ],
   "source": [
    "state = [1,0,0]\n",
    "fpoly = [3,2]\n",
    "L = LFSR(initstate=state,fpoly=fpoly)\n",
    "print('count \\t state \\t\\toutbit \\t seq')\n",
    "print('-'*50)\n",
    "for _ in range(8):\n",
    "    print(L.count,L.state,'',L.outbit,L.seq,sep='\\t')\n",
    "    L.next()\n",
    "print('-'*50)\n",
    "print('Output: ',L.seq)"
   ]
  },
  {
   "cell_type": "code",
   "execution_count": 174,
   "id": "d0fa517e",
   "metadata": {},
   "outputs": [
    {
     "data": {
      "image/png": "[encoded data removed]",
      "text/plain": [
       "<Figure size 576x252 with 1 Axes>"
      ]
     },
     "metadata": {
      "needs_background": "light"
     },
     "output_type": "display_data"
    }
   ],
   "source": [
    "L.Viz(show=False, show_labels=False,title='R1')"
   ]
  },
  {
   "cell_type": "markdown",
   "id": "e8999e34",
   "metadata": {},
   "source": [
    "# Sequências do Exemplo 12.2\n",
    "\n",
    "## $\\{a,q\\}=\\{4,7\\}$"
   ]
  },
  {
   "cell_type": "code",
   "execution_count": 138,
   "id": "17f4409b",
   "metadata": {},
   "outputs": [
    {
     "name": "stdout",
     "output_type": "stream",
     "text": [
      "Output:  1\n",
      "Output:  4\n",
      "Output:  2\n",
      "Output:  1\n",
      "Output:  4\n",
      "Output:  2\n",
      "Output:  1\n",
      "Output:  4\n",
      "Output:  2\n",
      "Output:  1\n"
     ]
    }
   ],
   "source": [
    "x0 = 1\n",
    "q  = 7\n",
    "a  = 4\n",
    "n  = 1\n",
    "x  = [1,2,3,4,5,6,7,8,9,10,11]\n",
    "\n",
    "\n",
    "print('Output: ',x0)\n",
    "while n<10:\n",
    "    x[n] = (a*(x[n-1]))%q\n",
    "    print('Output: ',x[n])\n",
    "    n += 1"
   ]
  },
  {
   "cell_type": "markdown",
   "id": "f8891d89",
   "metadata": {},
   "source": [
    "## $\\{a,q\\}=\\{3,7\\}$"
   ]
  },
  {
   "cell_type": "code",
   "execution_count": 139,
   "id": "83cf10ec",
   "metadata": {},
   "outputs": [
    {
     "name": "stdout",
     "output_type": "stream",
     "text": [
      "Output:  1\n",
      "Output:  3\n",
      "Output:  2\n",
      "Output:  6\n",
      "Output:  4\n",
      "Output:  5\n",
      "Output:  1\n",
      "Output:  3\n",
      "Output:  2\n",
      "Output:  6\n"
     ]
    }
   ],
   "source": [
    "x0 = 1\n",
    "q  = 7\n",
    "a  = 3\n",
    "n  = 1\n",
    "x  = [1,2,3,4,5,6,7,8,9,10,11]\n",
    "\n",
    "\n",
    "print('Output: ',x0)\n",
    "while n<10:\n",
    "    x[n] = (a*(x[n-1]))%q\n",
    "    print('Output: ',x[n])\n",
    "    n += 1"
   ]
  },
  {
   "cell_type": "markdown",
   "id": "0ada5a97",
   "metadata": {},
   "source": [
    "## $\\{a,q\\}=\\{4,8\\}$"
   ]
  },
  {
   "cell_type": "code",
   "execution_count": 140,
   "id": "fd911302",
   "metadata": {},
   "outputs": [
    {
     "name": "stdout",
     "output_type": "stream",
     "text": [
      "Output:  1\n",
      "Output:  4\n",
      "Output:  0\n",
      "Output:  0\n",
      "Output:  0\n",
      "Output:  0\n",
      "Output:  0\n",
      "Output:  0\n",
      "Output:  0\n",
      "Output:  0\n"
     ]
    }
   ],
   "source": [
    "x0 = 1\n",
    "q  = 8\n",
    "a  = 4\n",
    "n  = 1\n",
    "x  = [1,2,3,4,5,6,7,8,9,10,11]\n",
    "\n",
    "\n",
    "print('Output: ',x0)\n",
    "while n<10:\n",
    "    x[n] = (a*(x[n-1]))%q\n",
    "    print('Output: ',x[n])\n",
    "    n += 1"
   ]
  },
  {
   "cell_type": "code",
   "execution_count": null,
   "id": "8b6ac1c0",
   "metadata": {},
   "outputs": [],
   "source": []
  }
 ],
 "metadata": {
  "kernelspec": {
   "display_name": "Python 3",
   "language": "python",
   "name": "python3"
  },
  "language_info": {
   "codemirror_mode": {
    "name": "ipython",
    "version": 3
   },
   "file_extension": ".py",
   "mimetype": "text/x-python",
   "name": "python",
   "nbconvert_exporter": "python",
   "pygments_lexer": "ipython3",
   "version": "3.8.8"
  }
 },
 "nbformat": 4,
 "nbformat_minor": 5
}
