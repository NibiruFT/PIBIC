{
 "cells": [
  {
   "cell_type": "markdown",
   "id": "446e8d53",
   "metadata": {},
   "source": [
    "## Exemplo 12.3\n",
    "\n",
    "- Suponhe que queremos transformar uma variável aleatória uniforme em uma variável aleatória exponencial com a FDP na forma:\t $$f_Y(y)=a\\exp(-ay)u(y) $$\n",
    "- A FDC correspondente é:\n",
    "\t $$F_Y(y)=[1-\\exp(-ay)]u(y) $$\n",
    "- Então, para transformar uma variável aleatória uniforme em um v.as. exponencial, podemos usar a transformação:\n",
    "\t $$Y=F_Y^{-1}=-\\frac{\\ln(1-X)}a $$\n",
    "- Note que, se $X$ é uniformemente distribuído em (0,1), então $1-X$ serão também uniformemente distribuídos e isso permite uma transformação mais simples:\n",
    "\t $$Y=-\\frac{\\ln (X)}a $$"
   ]
  },
  {
   "cell_type": "markdown",
   "id": "70ccd3c4",
   "metadata": {},
   "source": [
    "## Atividade 3.1\n",
    "\n",
    "- Refaça o exemplo 12.3 e gere $1000$ v.as. exponenciais e faça um histograma da v.a. "
   ]
  },
  {
   "cell_type": "code",
   "execution_count": 24,
   "id": "ce8f29e3",
   "metadata": {},
   "outputs": [],
   "source": [
    "def expon_pdf(x, a=1):\n",
    "    \"\"\"FDP da distribuição exponencial.\"\"\"\n",
    "    return a*np.exp(-a*x)\n"
   ]
  },
  {
   "cell_type": "code",
   "execution_count": 25,
   "id": "a05298c3",
   "metadata": {},
   "outputs": [],
   "source": [
    "\n",
    "def expon_cdf(x, a=1):\n",
    "    \"\"\"FCD da distribuição exponencial.\"\"\"\n",
    "    return 1 - np.exp(-a*x)"
   ]
  },
  {
   "cell_type": "code",
   "execution_count": 51,
   "id": "cd41fa7f",
   "metadata": {},
   "outputs": [],
   "source": [
    "def expon_icdf(p, a=1):\n",
    "    \"\"\"FCD Inversa da distribuição exponencial.\"\"\"\n",
    "    return -np.log(p)/a"
   ]
  },
  {
   "cell_type": "code",
   "execution_count": 63,
   "id": "dfb471e3",
   "metadata": {},
   "outputs": [
    {
     "data": {
      "image/png": "[encoded data removed]",
      "text/plain": [
       "<Figure size 864x432 with 1 Axes>"
      ]
     },
     "metadata": {},
     "output_type": "display_data"
    }
   ],
   "source": [
    "import scipy.stats as stats\n",
    "\n",
    "dist = stats.expon()\n",
    "x = np.linspace(0,4,100)\n",
    "y = np.linspace(0,1,100)\n",
    "\n",
    "with plt.xkcd():\n",
    "    plt.figure(figsize=(12,6))\n",
    "    \n",
    "u = np.random.exponential(1,1000)\n",
    "v = expon_icdf(u)\n",
    "    \n",
    "size = 1000\n",
    "#drawing 1000 sample from \n",
    "#exponential distribution\n",
    "sample = np.random.exponential(1, size)\n",
    "bin = np.arange(0,10,0.1)\n",
    "\n",
    "plt.hist(v,bins = bin, edgecolor='blue') \n",
    "plt.title(\"Exponential Distribution\") \n",
    "plt.show()\n",
    "    "
   ]
  },
  {
   "cell_type": "markdown",
   "id": "438c21ad",
   "metadata": {},
   "source": [
    "\n",
    "- O método da transformação não funciona para geração de v.as. gaussianas pois não temos uma expressão fechada para $F_X ^{−1} (U)$. Um método eficiente para gerar v.as. gaussianas faz uso de duas v.as. uniformes independentes $U_1$ e $U_2$ da seguinte forma:\n",
    "\t- $$X_1=\\sqrt{-2\\ln(U_1)}\\cos(2\\pi U_2) $$\n",
    "- e\n",
    "\t- $$X_2=\\sqrt{-2\\ln(U_1)}\\sin(2\\pi U_2) $$\n",
    "- $X_1$ e $X_2$ são v.as. gaussinas com variância unitária e esperança nula $N(0, 1)$.\n",
    "-  Para gerar uma v.a. gaussiana $Y_i$ com $N(\\sigma^2,\\mu)$ faça a $Y_i=\\sigma X_i+\\mu$, $i=1,2$"
   ]
  },
  {
   "cell_type": "markdown",
   "id": "17cf0d28",
   "metadata": {},
   "source": [
    "## Atividade 3.2\n",
    "\n",
    "- Gere $1000$ amostras de $X_1$ e faça um histograma da mesma."
   ]
  },
  {
   "cell_type": "code",
   "execution_count": 64,
   "id": "1bdf7072",
   "metadata": {},
   "outputs": [
    {
     "data": {
      "image/png": "[encoded data removed]",
      "text/plain": [
       "<Figure size 432x288 with 1 Axes>"
      ]
     },
     "metadata": {
      "needs_background": "light"
     },
     "output_type": "display_data"
    }
   ],
   "source": [
    "\n",
    "from numpy import random, sqrt, log, sin, cos, pi\n",
    "from pylab import show,hist,subplot,figure\n",
    "\n",
    "# Função de Transformação\n",
    "def gaussian(u1,u2):\n",
    "  X1 = sqrt(-2*log(u1))*cos(2*pi*u2)\n",
    "  X2 = sqrt(-2*log(u1))*sin(2*pi*u2)\n",
    "  return X1,X2\n",
    "\n",
    "# Valores uniformemente distribuídos entre 0 e 1\n",
    "u1 = random.rand(1000)\n",
    "u2 = random.rand(1000)\n",
    "\n",
    "# Rodando a transformação\n",
    "X1,X2 = gaussian(u1,u2)\n",
    "\n",
    "# Plotando os valores\n",
    "figure()\n",
    "hist(X1)   \n",
    "plt.title(\"Histograma de X1\") \n",
    "show()"
   ]
  }
 ],
 "metadata": {
  "kernelspec": {
   "display_name": "Python 3",
   "language": "python",
   "name": "python3"
  },
  "language_info": {
   "codemirror_mode": {
    "name": "ipython",
    "version": 3
   },
   "file_extension": ".py",
   "mimetype": "text/x-python",
   "name": "python",
   "nbconvert_exporter": "python",
   "pygments_lexer": "ipython3",
   "version": "3.8.8"
  }
 },
 "nbformat": 4,
 "nbformat_minor": 5
}
