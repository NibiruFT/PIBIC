{
 "cells": [
  {
   "cell_type": "code",
   "execution_count": 136,
   "id": "fd3a6aaf",
   "metadata": {},
   "outputs": [],
   "source": [
    "import random\n",
    "import matplotlib.pyplot as plt\n",
    "import numpy as np"
   ]
  },
  {
   "cell_type": "markdown",
   "id": "a0f81eda",
   "metadata": {},
   "source": [
    "# 1. Sistema de Comunicação (Explicação do Código)"
   ]
  },
  {
   "cell_type": "markdown",
   "id": "209a305c",
   "metadata": {},
   "source": [
    "Considere um sistema de comunicação digital ligando Campina Grande a João Pessoa e\n",
    "que a cada $20$ km tem que se colocar um repetidor para restaurar o sinal transmitido. Suponha\n",
    "que cada trecho de $20$ km pode ser modelado por um canal BSC com probablidade de erro $\\alpha$.\n",
    "Considere a distância entre Campina Grande e João Pessoa de $120$ km."
   ]
  },
  {
   "cell_type": "markdown",
   "id": "90af8d79",
   "metadata": {},
   "source": [
    "### 1.1 Fonte (KM 0)"
   ]
  },
  {
   "cell_type": "markdown",
   "id": "ce46c4b7",
   "metadata": {},
   "source": [
    "É enviado uma mensagem de $10000$ bits ($1$ e $0$ equiprováveis), com $\\alpha=0.001$."
   ]
  },
  {
   "cell_type": "code",
   "execution_count": 265,
   "id": "858bf581",
   "metadata": {
    "scrolled": true
   },
   "outputs": [],
   "source": [
    "bits = 10000\n",
    "alfa = 0.001\n",
    "mes_env = np.random.randint(0,2,bits)"
   ]
  },
  {
   "cell_type": "markdown",
   "id": "e3fad036",
   "metadata": {},
   "source": [
    "É dada a probabilidade de $\\alpha=0.001$ de ocorrência de erro para cada repetidor."
   ]
  },
  {
   "cell_type": "markdown",
   "id": "c783e2f5",
   "metadata": {},
   "source": [
    "### 1.2 Repetidor (KM 20)"
   ]
  },
  {
   "cell_type": "code",
   "execution_count": 266,
   "id": "0c0f26d4",
   "metadata": {},
   "outputs": [],
   "source": [
    "data1 = np.array(mes_env)\n",
    "n = np.random.binomial(len(mes_env), alfa)\n",
    "mes_env[np.random.rand(*mes_env.shape) < alfa] = (n+1)%2  "
   ]
  },
  {
   "cell_type": "markdown",
   "id": "9a6e691e",
   "metadata": {},
   "source": [
    "### 1.3 Repetidor (KM 40)"
   ]
  },
  {
   "cell_type": "code",
   "execution_count": 267,
   "id": "fe2f61b7",
   "metadata": {},
   "outputs": [],
   "source": [
    "data2 = np.array(mes_env)\n",
    "n = np.random.binomial(len(mes_env), alfa)\n",
    "mes_env[np.random.rand(*mes_env.shape) < alfa] = (n+1)%2 "
   ]
  },
  {
   "cell_type": "markdown",
   "id": "8b5744ec",
   "metadata": {},
   "source": [
    "### 1.4 Repetidor (KM 60)"
   ]
  },
  {
   "cell_type": "code",
   "execution_count": 268,
   "id": "2b594092",
   "metadata": {},
   "outputs": [],
   "source": [
    "data3 = np.array(mes_env)\n",
    "n = np.random.binomial(len(mes_env), alfa)\n",
    "mes_env[np.random.rand(*mes_env.shape) < alfa] = (n+1)%2"
   ]
  },
  {
   "cell_type": "markdown",
   "id": "d96ed208",
   "metadata": {},
   "source": [
    "### 1.5 Repetidor (KM 80)"
   ]
  },
  {
   "cell_type": "code",
   "execution_count": 269,
   "id": "dd901309",
   "metadata": {},
   "outputs": [],
   "source": [
    "data4 = np.array(mes_env)\n",
    "n = np.random.binomial(len(mes_env), alfa)\n",
    "mes_env[np.random.rand(*mes_env.shape) < alfa] = (n+1)%2"
   ]
  },
  {
   "cell_type": "markdown",
   "id": "55f506f9",
   "metadata": {},
   "source": [
    "### 1.6 Repetidor (KM 100)"
   ]
  },
  {
   "cell_type": "code",
   "execution_count": 270,
   "id": "cbb3cd11",
   "metadata": {},
   "outputs": [],
   "source": [
    "data5 = np.array(mes_env)\n",
    "n = np.random.binomial(len(mes_env), alfa)\n",
    "mes_env[np.random.rand(*mes_env.shape) < alfa] = (n+1)%2"
   ]
  },
  {
   "cell_type": "markdown",
   "id": "c16394ed",
   "metadata": {},
   "source": [
    "### 1.7 Destino (KM 120)"
   ]
  },
  {
   "cell_type": "markdown",
   "id": "2ac410ff",
   "metadata": {},
   "source": [
    "No destino é calculado a probabilidade de erro e precisão relativa do sistema."
   ]
  },
  {
   "cell_type": "code",
   "execution_count": 271,
   "id": "8e4f6072",
   "metadata": {},
   "outputs": [],
   "source": [
    "nerros = 0\n",
    "ferros = []\n",
    "for j in range(bits):\n",
    "    ferros.append(0)\n",
    "for i in range(bits):\n",
    "    if (data1[i] == mes_env[i]) == False:\n",
    "        nerros += 1\n",
    "    ferros[i] = nerros/(i+1)    "
   ]
  },
  {
   "cell_type": "code",
   "execution_count": 272,
   "id": "214f07fb",
   "metadata": {
    "scrolled": true
   },
   "outputs": [
    {
     "name": "stdout",
     "output_type": "stream",
     "text": [
      "Erros =  31 \n",
      "Probabilidade de Erros =  0.0031 \n",
      "Precisão Relativa =  1.1514132688575116\n"
     ]
    }
   ],
   "source": [
    "print('Erros = ', nerros,'\\nProbabilidade de Erros = ',nerros/bits,'\\nPrecisão Relativa = ', np.sqrt(np.var(ferros))/alfa)"
   ]
  },
  {
   "cell_type": "markdown",
   "id": "911c4dca",
   "metadata": {},
   "source": [
    "# 1.8 Valor Teórico da Probabilidade de Erro"
   ]
  },
  {
   "cell_type": "code",
   "execution_count": 286,
   "id": "08e83b2c",
   "metadata": {},
   "outputs": [
    {
     "name": "stdout",
     "output_type": "stream",
     "text": [
      "Matriz de Transição:\n",
      "[[0.999 1.   ]\n",
      " [1.    0.999]]\n",
      "\n",
      "Probabilidade de Erros:\n",
      "0.0019989999999999735\n"
     ]
    }
   ],
   "source": [
    "matrix = np.array([[1-0.001, 1], [1, 1-0.001]]) \n",
    "print(\"Matriz de Transição:\") \n",
    "print(matrix) \n",
    "print(\"\\nProbabilidade de Erros:\") \n",
    "print(np.linalg.det(matrix)*(-1))"
   ]
  },
  {
   "cell_type": "markdown",
   "id": "ef994c6b",
   "metadata": {},
   "source": [
    "# 2. Fazendo a simulação $10$ vezes"
   ]
  },
  {
   "cell_type": "code",
   "execution_count": 275,
   "id": "82ba6cda",
   "metadata": {},
   "outputs": [
    {
     "name": "stdout",
     "output_type": "stream",
     "text": [
      "Erros =  22 \n",
      "Probabilidade de Erros =  0.0022 \n",
      "Precisão Relativa =  0.622707186757762 \n",
      "\n",
      "\n",
      "Erros =  23 \n",
      "Probabilidade de Erros =  0.0023 \n",
      "Precisão Relativa =  0.5813305230813792 \n",
      "\n",
      "\n",
      "Erros =  23 \n",
      "Probabilidade de Erros =  0.0023 \n",
      "Precisão Relativa =  0.8227862700826644 \n",
      "\n",
      "\n",
      "Erros =  27 \n",
      "Probabilidade de Erros =  0.0027 \n",
      "Precisão Relativa =  0.8316219115051954 \n",
      "\n",
      "\n",
      "Erros =  25 \n",
      "Probabilidade de Erros =  0.0025 \n",
      "Precisão Relativa =  1.940644235648155 \n",
      "\n",
      "\n",
      "Erros =  25 \n",
      "Probabilidade de Erros =  0.0025 \n",
      "Precisão Relativa =  0.5783353483376571 \n",
      "\n",
      "\n",
      "Erros =  20 \n",
      "Probabilidade de Erros =  0.002 \n",
      "Precisão Relativa =  0.5293848518714205 \n",
      "\n",
      "\n",
      "Erros =  28 \n",
      "Probabilidade de Erros =  0.0028 \n",
      "Precisão Relativa =  1.0181887432481553 \n",
      "\n",
      "\n",
      "Erros =  20 \n",
      "Probabilidade de Erros =  0.002 \n",
      "Precisão Relativa =  0.576486725601537 \n",
      "\n",
      "\n",
      "Erros =  23 \n",
      "Probabilidade de Erros =  0.0023 \n",
      "Precisão Relativa =  1.8528867645608882 \n",
      "\n",
      "\n"
     ]
    }
   ],
   "source": [
    "for x in range(10): \n",
    "    mes_env = np.random.randint(0,2,bits)\n",
    "\n",
    "    data1 = np.array(mes_env)\n",
    "    n = np.random.binomial(len(mes_env), alfa)\n",
    "    mes_env[np.random.rand(*mes_env.shape) < alfa] = (n+1)%2  \n",
    "\n",
    "    data2 = np.array(mes_env)\n",
    "    n = np.random.binomial(len(mes_env), alfa)\n",
    "    mes_env[np.random.rand(*mes_env.shape) < alfa] = (n+1)%2 \n",
    "\n",
    "    data3 = np.array(mes_env)\n",
    "    n = np.random.binomial(len(mes_env), alfa)\n",
    "    mes_env[np.random.rand(*mes_env.shape) < alfa] = (n+1)%2\n",
    "\n",
    "    data4 = np.array(mes_env)\n",
    "    n = np.random.binomial(len(mes_env), alfa)\n",
    "    mes_env[np.random.rand(*mes_env.shape) < alfa] = (n+1)%2\n",
    "\n",
    "    data5 = np.array(mes_env)\n",
    "    n = np.random.binomial(len(mes_env), alfa)\n",
    "    mes_env[np.random.rand(*mes_env.shape) < alfa] = (n+1)%2\n",
    "    \n",
    "    nerros = 0\n",
    "    ferros = []\n",
    "    for j in range(bits):\n",
    "        ferros.append(0)\n",
    "    for i in range(bits):\n",
    "        if (data1[i] == mes_env[i]) == False:\n",
    "            nerros += 1\n",
    "        ferros[i] = nerros/(i+1)    \n",
    "    print('Erros = ', nerros,'\\nProbabilidade de Erros = ',nerros/bits,'\\nPrecisão Relativa = ', np.sqrt(np.var(ferros))/alfa,'\\n\\n')   "
   ]
  }
 ],
 "metadata": {
  "kernelspec": {
   "display_name": "Python 3",
   "language": "python",
   "name": "python3"
  },
  "language_info": {
   "codemirror_mode": {
    "name": "ipython",
    "version": 3
   },
   "file_extension": ".py",
   "mimetype": "text/x-python",
   "name": "python",
   "nbconvert_exporter": "python",
   "pygments_lexer": "ipython3",
   "version": "3.8.8"
  }
 },
 "nbformat": 4,
 "nbformat_minor": 5
}
